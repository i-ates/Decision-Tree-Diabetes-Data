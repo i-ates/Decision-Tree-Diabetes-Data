{
 "cells": [
  {
   "cell_type": "markdown",
   "id": "distributed-curtis",
   "metadata": {},
   "source": [
    "# <center> BBM409 : Introduction to Machine Learning Lab. </center>\n",
    "## <center> Assignment 2 </center>\n",
    "\n",
    "![alt_text](https://www.nokia.com/sites/default/files/styles/nokia_blog_page_image/public/blog/nokia-analytics-banner.jpg)\n",
    "\n",
    "\n",
    "#### <center> Group 3 </center>\n",
    "#### <center> *21626953 - İsmail Ateş  &  Mustafa Kollu - 21627485*</center>\n",
    "\n",
    "**Abstract**\n",
    "\n",
    "The purpose of this assignment is to help you understand and familiarize yourself with the decision tree with ID3 algorithm. There are two parts to this task. The first part contains implementation of decision tree and calcutaion of performance matrices and the second part includes the pruning decision tree."
   ]
  },
  {
   "cell_type": "markdown",
   "id": "incorporate-approach",
   "metadata": {},
   "source": [
    "## Table of Content\n",
    "[1. Functions](#functions) \n",
    "\n",
    "[2. Diabetes Risk Prediction](#glass1)   \n",
    "    [* Diabetes Risk Dataset](#glass1.1)   \n",
    "    [* Classification Performance Metric](#glass1.2)    \n",
    "    [* Error Analysis for Classification](#glass1.4)     \n",
    "  \n",
    "    \n",
    "\n",
    "    \n",
    "[3. References](#references)"
   ]
  },
  {
   "cell_type": "markdown",
   "id": "hawaiian-while",
   "metadata": {},
   "source": [
    "## 1. Functions <a class=\"anchor\" id=\"functions\"></a>"
   ]
  },
  {
   "cell_type": "markdown",
   "id": "liquid-reality",
   "metadata": {},
   "source": [
    "Functions we use throughout the project"
   ]
  },
  {
   "cell_type": "markdown",
   "id": "coated-cornell",
   "metadata": {},
   "source": [
    "### _Import Library_"
   ]
  },
  {
   "cell_type": "code",
   "execution_count": 1,
   "id": "modified-colors",
   "metadata": {},
   "outputs": [],
   "source": [
    "from copy import deepcopy\n",
    "import math\n",
    "import datetime  # The library we use to calculate the time difference between algorithms\n",
    "import csv\n",
    "import pandas as pd  # just uses for read csv\n",
    "import numpy as np  # numpy library used throughout the whole project"
   ]
  },
  {
   "cell_type": "code",
   "execution_count": 2,
   "id": "d5f562b6",
   "metadata": {},
   "outputs": [],
   "source": [
    "def discreteFeature(df, featureIndexes, bin):\n",
    "    # find min max value of feature at featureIndex\n",
    "    for z in range(0, len(featureIndexes)):\n",
    "        minVal = df[featureIndexes[z]][0]\n",
    "        maxVal = df[featureIndexes[z]][0]\n",
    "        for i in range(0, df.shape[1]):\n",
    "            if i == featureIndexes[z]:\n",
    "                for j in range(0, df.shape[0]):\n",
    "                    if df[j][i] > maxVal:\n",
    "                        maxVal = df[j][i]\n",
    "                    if df[j][i] < minVal:\n",
    "                        minVal = df[j][i]\n",
    "        # find bigness of each part of continues values\n",
    "        meanVal = (maxVal - minVal) / bin\n",
    "\n",
    "        # transform continues values to discrete values\n",
    "        for i in range(0, df.shape[1]):\n",
    "            if i == featureIndexes[z]:\n",
    "                for j in range(0, df.shape[0]):\n",
    "                    df[j][i] = int((df[j][i] - minVal) // meanVal)\n",
    "\n",
    "    return df"
   ]
  },
  {
   "cell_type": "code",
   "execution_count": 3,
   "id": "b84fb0e5",
   "metadata": {},
   "outputs": [],
   "source": [
    "#this function maps the values in the dataSet. for example ***index : 1**** Female : 0 Male : 1\n",
    "\n",
    "def mapDataFrame(df, indexList):\n",
    "    newDf = np.zeros(shape=(df.shape[0], df.shape[1]), dtype=int)\n",
    "\n",
    "    for i in range(0, df.shape[1]):\n",
    "        if i in indexList:\n",
    "            elementList = []\n",
    "            for j in range(0, df.shape[0]):\n",
    "                if df[j][i] not in elementList:\n",
    "                    elementList.append(df[j][i])\n",
    "            for j in range(0, df.shape[0]):\n",
    "                for z in range(0, len(elementList)):\n",
    "                    if elementList[z] == df[j][i]:\n",
    "                        newDf[j][i] = z\n",
    "                        break\n",
    "            elementList.sort()\n",
    "            print(\"***index : \"+ str(i)+\"****\")\n",
    "            for x in range(0 , len(elementList)):\n",
    "                print(elementList[x] + \" : \" + str(x))\n",
    "        else:\n",
    "            for j in range(0, df.shape[0]):\n",
    "                newDf[j][i] = df[j][i]\n",
    "\n",
    "\n",
    "    return newDf"
   ]
  },
  {
   "cell_type": "code",
   "execution_count": 4,
   "id": "e33b673f",
   "metadata": {},
   "outputs": [],
   "source": [
    "class Node:\n",
    "    def __init__(self, label, splitOn=None, track=False):\n",
    "        self.label = label\n",
    "        self.children = {}\n",
    "        self.splitOn = splitOn\n",
    "        self.track = track"
   ]
  },
  {
   "cell_type": "code",
   "execution_count": 5,
   "id": "2ee6ea9f",
   "metadata": {},
   "outputs": [],
   "source": [
    "#Returns a tree that has been trained on an array of samples. The target class variable is a special attribute \n",
    "#with the name \"class,\" and each example is a dictionary of attribute:value pairs.\n",
    "def ID3(examples, default):\n",
    "    if len(examples) == 0:\n",
    "        return Node(default)\n",
    "    elif all(examples[0]['class'] == example['class'] for example in examples):\n",
    "        return Node(getmodeByFeature(examples, 'class'))\n",
    "    else:\n",
    "        best = bestInformationGain(examples)\n",
    "        # if all available splits have zero information gain\n",
    "        if getInformationGain(examples, best) == 0:\n",
    "            featureList = [feature for feature in examples[0].keys()]\n",
    "            featureList.remove('class')\n",
    "            for feature in featureList:\n",
    "                if splitExamplesByFeature(examples, feature).keys() > 1:\n",
    "                    best = feature\n",
    "                    break\n",
    "        tree = Node(getmodeByFeature(examples, 'class'), best)\n",
    "        splitExamples = splitExamplesByFeature(examples, best)\n",
    "        for val, exI in splitExamples.items():\n",
    "            tree.children[val] = ID3(exI, getmodeByFeature(examples, 'class'))\n",
    "        return tree\n"
   ]
  },
  {
   "cell_type": "code",
   "execution_count": 6,
   "id": "2ddc2b36",
   "metadata": {},
   "outputs": [],
   "source": [
    "#Takes a trained tree and a series of validation examples. Prunes nodes to increase validation data correctness; \n",
    "#the exact pruning technique is up to you.\n",
    "def prune(node, examples):\n",
    "    listOfNodes = postOrderList(node)\n",
    "    prevAccuracy = test(node, examples)[0]\n",
    "    treeList = []\n",
    "    while len(listOfNodes):\n",
    "        for n in listOfNodes:\n",
    "            n.track = True\n",
    "            treeCopy = deepcopy(node)\n",
    "            newTree = delNode(treeCopy)\n",
    "            n.track = False\n",
    "            newAccuracy = test(newTree, examples)[0]\n",
    "            if newAccuracy > prevAccuracy:\n",
    "                treeList.append((n, newAccuracy))\n",
    "        if not len(treeList):\n",
    "            return node\n",
    "        else:\n",
    "            pruneNode = max(treeList, key=lambda x: x[1])\n",
    "            pruneNode[0].track = True\n",
    "            delNode(node)\n",
    "            prevAccuracy = test(node, examples)[0]\n",
    "            treeList = []\n",
    "    return node"
   ]
  },
  {
   "cell_type": "code",
   "execution_count": 7,
   "id": "b4c1a711",
   "metadata": {},
   "outputs": [],
   "source": [
    "def postOrderList(node):\n",
    "    result, stack = [], [(node, False)]\n",
    "    while stack:\n",
    "        n, visited = stack.pop()\n",
    "        if n:\n",
    "            if visited:\n",
    "                result.append(n)\n",
    "            else:\n",
    "                stack.append((n, True))\n",
    "                allKeys = list(n.children.keys())\n",
    "                for key in allKeys[::-1]:\n",
    "                    stack.append((n.children[key], False))\n",
    "    return result\n"
   ]
  },
  {
   "cell_type": "code",
   "execution_count": 8,
   "id": "3b469671",
   "metadata": {},
   "outputs": [],
   "source": [
    "def delNode(root):\n",
    "    stack = [root]\n",
    "    while len(stack) != 0:\n",
    "        x = stack.pop()\n",
    "        for key, child in x.children.items():\n",
    "            if child.track:\n",
    "                del x.children[key]\n",
    "                return root\n",
    "        for child in x.children.values():\n",
    "            stack.append(child)\n",
    "    return root"
   ]
  },
  {
   "cell_type": "code",
   "execution_count": 9,
   "id": "61dbc21f",
   "metadata": {},
   "outputs": [],
   "source": [
    "def test(node, examples):\n",
    "    classList = [example['class'] for example in examples]\n",
    "    predictList = []\n",
    "    for example in examples:\n",
    "        predictList.append(evaluate(node, example))\n",
    "    TP = 0\n",
    "    TN = 0\n",
    "    FP = 0\n",
    "    FN = 0\n",
    "    numCorrect = 0\n",
    "    for i in range(len(classList)):\n",
    "        if predictList[i] == classList[i]:\n",
    "            numCorrect += 1\n",
    "            if predictList[i] == \"1\":\n",
    "                TP = TP + 1\n",
    "            else:\n",
    "                TN = TN + 1\n",
    "        else:\n",
    "            if predictList[i] == \"1\":\n",
    "                FP = FP +1\n",
    "            else:\n",
    "                FN = FN +1\n",
    "\n",
    "    return [(numCorrect / len(classList)),TP, TN, FP , FN]"
   ]
  },
  {
   "cell_type": "code",
   "execution_count": 10,
   "id": "1d75be91",
   "metadata": {},
   "outputs": [],
   "source": [
    "#Includes a tree and a single example. The Class value that the tree assigns to the example is returned.\n",
    "def evaluate(node, example):\n",
    "    current = node\n",
    "    try:\n",
    "        while len(current.children) > 0:\n",
    "            feature = current.splitOn\n",
    "            val = example[feature]\n",
    "            if val in current.children.keys():\n",
    "                current = current.children[val]\n",
    "            else:\n",
    "                return current.label\n",
    "    except:\n",
    "        return  None\n",
    "    return current.label"
   ]
  },
  {
   "cell_type": "code",
   "execution_count": 11,
   "id": "41789334",
   "metadata": {},
   "outputs": [],
   "source": [
    "#Returns the mode of an attribute given a collection of instances and an attribute.\n",
    "def getmodeByFeature(examples, feature):\n",
    "    featureList = []\n",
    "    for instance in examples:\n",
    "        if instance[feature] != '?':\n",
    "            featureList.append(instance[feature])\n",
    "    return max(featureList, key=featureList.count)"
   ]
  },
  {
   "cell_type": "code",
   "execution_count": 12,
   "id": "63389f07",
   "metadata": {},
   "outputs": [],
   "source": [
    "def getClassCounts(examples):\n",
    "    totalCount = {}\n",
    "    for example in examples:\n",
    "        val = example['class']\n",
    "        if val in totalCount.keys():\n",
    "            totalCount[val] += 1\n",
    "        else:\n",
    "            totalCount[val] = 1\n",
    "    return totalCount"
   ]
  },
  {
   "cell_type": "code",
   "execution_count": 13,
   "id": "701d6fea",
   "metadata": {},
   "outputs": [],
   "source": [
    "def splitExamplesByFeature(examples, feature):\n",
    "    resultDict = {}\n",
    "    for example in examples:\n",
    "        if feature in example:\n",
    "            val = example[feature]\n",
    "            if val in resultDict.keys():\n",
    "                resultDict[val].append(example)\n",
    "            else:\n",
    "                resultDict[val] = [example]\n",
    "    return resultDict  # dictionary of (examples) list of dictionaries\n",
    "\n"
   ]
  },
  {
   "cell_type": "code",
   "execution_count": 14,
   "id": "73e90ebc",
   "metadata": {},
   "outputs": [],
   "source": [
    "def getEntropy(examples):\n",
    "    counts = getClassCounts(examples)\n",
    "    total = len(examples)\n",
    "    if total == 0:\n",
    "        return 0\n",
    "    entropy = 0\n",
    "    for cnt in counts.values():\n",
    "        entropy += (cnt / total) * math.log(cnt / total, 2)\n",
    "    return -1 * entropy"
   ]
  },
  {
   "cell_type": "code",
   "execution_count": 15,
   "id": "56276b5d",
   "metadata": {},
   "outputs": [],
   "source": [
    "def getInformationGain(examples, feature):\n",
    "    parentEntropy = getEntropy(examples)\n",
    "    splitExamples = splitExamplesByFeature(examples, feature)\n",
    "    entropyList = []  # list of tuples (entropy, length)\n",
    "    for exI in splitExamples.values():\n",
    "        length = len(exI)\n",
    "        entropy = getEntropy(exI)\n",
    "        entropyList.append((entropy, length))\n",
    "\n",
    "    total = len(examples)\n",
    "    avgChildEntropy = 0\n",
    "    for tup in entropyList:\n",
    "        avgChildEntropy += (tup[1] / total) * tup[0]\n",
    "\n",
    "    return parentEntropy - avgChildEntropy\n",
    "\n"
   ]
  },
  {
   "cell_type": "code",
   "execution_count": 16,
   "id": "ed173647",
   "metadata": {},
   "outputs": [],
   "source": [
    "def bestInformationGain(examples):\n",
    "    bestFeature = ''\n",
    "    bestIG = 0\n",
    "    for feature in examples[0].keys():\n",
    "        if feature != 'class':\n",
    "            IG = getInformationGain(examples, feature)\n",
    "            if IG > bestIG:\n",
    "                bestIG = IG\n",
    "                bestFeature = feature\n",
    "    return bestFeature\n"
   ]
  },
  {
   "cell_type": "code",
   "execution_count": 17,
   "id": "7a98cbf2",
   "metadata": {},
   "outputs": [],
   "source": [
    "# This functios does 5foldcrossvalidation for ID3 decision tree classification. It takes dataFrame as a numpy array.\n",
    "# It split the dataFrame to train Data(%80) (%60 train %20 validation) and test Data(%20). This function splits\n",
    "# the dataFrame in to 5 part and takes them respectively each part to test data and take rest of them to train data.\n",
    "# It calculates the prediction and get accuracy for each part and and avarage accuracy for decision tree.\n",
    "# After each part calculations it prints the results.\n",
    "\n",
    "\n",
    "def kFoldCrossValidationClasification(df):\n",
    "    # splitNum = rounded result of to division of sample count to 5. It is  size of each 5 part\n",
    "    splitNum = len(df) // 5\n",
    "    avgAcc = 0\n",
    "    avgAccPrun = 0\n",
    "    avgPrecision = 0\n",
    "    avgF1Score = 0\n",
    "    avgRecall = 0\n",
    "    avgPrecisionPrun = 0\n",
    "    avgRecallPrun = 0\n",
    "    avgF1ScorePrun = 0\n",
    "    avgCompileTime = 0\n",
    "    avgCompileTimePrun = 0\n",
    "    for i in range(0, 5):\n",
    "        trainDict = df.copy()\n",
    "        testData = []\n",
    "        # copying samples to test Data and add their indexes to indexList\n",
    "        for y in range(splitNum * i, splitNum * (i + 1)):\n",
    "            testData.append(df[y])\n",
    "        # for  j in range to reversed for loop, delete samples in train Data which are added to test Data\n",
    "        for j in range(splitNum - 1, -1, -1):\n",
    "            del trainDict[j + (splitNum * i)]\n",
    "\n",
    "\n",
    "        validationSize = len(trainDict)//4\n",
    "        trainData = trainDict[0:len(trainDict)-validationSize]\n",
    "        validationData = trainDict[len(trainDict)-validationSize:]\n",
    "\n",
    "        startTime = datetime.datetime.now()\n",
    "        tree = ID3(trainData ,0)\n",
    "        acc = test(tree, testData)\n",
    "        endTime = datetime.datetime.now()\n",
    "        avgCompileTime = avgCompileTime + ((endTime - startTime).total_seconds() * 1000)\n",
    "\n",
    "        TP = acc[1]\n",
    "        FP = acc[3]\n",
    "        FN = acc[4]\n",
    "        precision = TP / (TP + FP)\n",
    "        recall = TP / (TP + FN)\n",
    "        f1score = (2 * (recall * precision)) / (recall + precision)\n",
    "        avgPrecision = avgPrecision + precision\n",
    "        avgRecall = avgRecall + recall\n",
    "        avgF1Score = avgF1Score + f1score\n",
    "        avgAcc = acc[0] + avgAcc\n",
    "        print(\"Fold \" + str(i))\n",
    "        print(\"Without prune acc = \" + str(acc[0]))\n",
    "\n",
    "        startTime = datetime.datetime.now()\n",
    "\n",
    "        treePruned = prune(tree, validationData)\n",
    "        accPrun= test(treePruned,testData)\n",
    "        endTime = datetime.datetime.now()\n",
    "        avgCompileTimePrun = avgCompileTimePrun + ((endTime - startTime).total_seconds() * 1000)\n",
    "        TP = accPrun[1]\n",
    "        FP = accPrun[3]\n",
    "        FN = accPrun[4]\n",
    "        precision = TP / (TP + FP)\n",
    "        recall = TP / (TP + FN)\n",
    "        f1score = (2 * (recall * precision)) / (recall + precision)\n",
    "        avgPrecisionPrun = avgPrecisionPrun + precision\n",
    "        avgRecallPrun = avgRecallPrun + recall\n",
    "        avgF1ScorePrun = avgF1ScorePrun + f1score\n",
    "        print(\"Pruned acc = \" + str(accPrun[0]))\n",
    "        avgAccPrun = accPrun[0] + avgAccPrun\n",
    "        print()\n",
    "\n",
    "    print(\"\")\n",
    "    print(\"\")\n",
    "    print(\"////////////////////////\")\n",
    "    print(\"Avarage Acc = \" + str(avgAcc / 5))\n",
    "    print(\"Avarage Precision = \" + str(avgPrecision/5))\n",
    "    print(\"Avarage Recall = \" + str(avgRecall/5))\n",
    "    print(\"Avarage F1Score = \" + str(avgF1Score/5))\n",
    "    print(\"Average Run Time = \" + str(avgCompileTime / 5))\n",
    "    print(\"////////////////////////\")\n",
    "    print(\"Avarage Acc Prun = \" + str(avgAccPrun / 5))\n",
    "    print(\"Avarage Precision Prun= \" + str(avgPrecisionPrun / 5))\n",
    "    print(\"Avarage Recall Prun= \" + str(avgRecallPrun / 5))\n",
    "    print(\"Avarage F1Score Prun= \" + str(avgF1ScorePrun / 5))\n",
    "    print(\"Average Run Time Prun= \" + str(avgCompileTimePrun / 5))\n",
    "    print(\"////////////////////////\")\n",
    "    print(\"\")\n",
    "    print(\"\")\n",
    "\n",
    "\n",
    "\n"
   ]
  },
  {
   "cell_type": "markdown",
   "id": "d97e3ad2",
   "metadata": {},
   "source": [
    "## 2. Diabetes Risk Prediction<a class=\"anchor\" id=\"glass1\"></a>"
   ]
  },
  {
   "cell_type": "markdown",
   "id": "f17700aa",
   "metadata": {},
   "source": [
    "In this project, we used a decision tree model to predict whether or not a patient is diabetic.\n",
    "For our training phase, we will be given a dataset. We divided our training dataset into two parts: \n",
    "a training set that will be used to learn the model and a validation set that will be used to assess the\n",
    "model's progress. The approach of 5-fold cross-validation was utilized, as discussed in class. Within the \n",
    "framework of our decision tree model, we implement the ID3 notion. On the dataset, ID3 was implemented for \n",
    "discrete attributes, while the discretization technique was applied to a continuous attribute (\"Age\" attribute)."
   ]
  },
  {
   "cell_type": "markdown",
   "id": "a1708d38",
   "metadata": {},
   "source": [
    "#### Diabetes Risk Dataset <a class=\"anchor\" id=\"glass1.1\"></a>\n",
    "\n",
    "__Attribute Information:__\n",
    "1. Age (Continuous Attribute)\n",
    "2. Gender (Discrete Attribute)\n",
    "3. Polyuria (Discrete Attribute)\n",
    "4. Polydipsia (Discrete Attribute)\n",
    "5. Sudden Weight Loss (Discrete Attribute)\n",
    "6. Weakness (Discrete Attribute)\n",
    "7. Polyphagia (Discrete Attribute)\n",
    "8. Genital Thrush (Discrete Attribute)\n",
    "9. Visual Blurring (Discrete Attribute)\n",
    "10. Itching (Discrete Attribute)\n",
    "11. Irritability (Discrete Attribute)\n",
    "12. Delayed Healing (Discrete Attribute)\n",
    "13. Partial Paresis (Discrete Attribute)\n",
    "14. Muscle Stiffness (Discrete Attribute)\n",
    "15. Alopecia (Discrete Attribute)\n",
    "16. Obesity (Discrete Attribute)\n",
    "17. Class (Output Prediction Class Information, ”Positive” or ”Negative”)"
   ]
  },
  {
   "cell_type": "markdown",
   "id": "b5d6c1ed",
   "metadata": {},
   "source": [
    "#### Classification Performance Metric <a class=\"anchor\" id=\"glass1.2\"></a>"
   ]
  },
  {
   "attachments": {
    "Screenshot%20from%202021-11-19%2015-02-09.png": {
     "image/png": "[encoded data removed]"
    }
   },
   "cell_type": "markdown",
   "id": "e70490ef",
   "metadata": {},
   "source": [
    "We compute ”Accuracy”, ”Precision”, ”Recall” and ”F1 Score” of your model to\n",
    "measure the success of your classification method based on your constructed confusion\n",
    "matrix, in which T P means ”True Positive”, T N means ”True Negative”, F P means\n",
    "”False Positive” and finally F N means ”False Negative”:\n",
    "![Screenshot%20from%202021-11-19%2015-02-09.png](attachment:Screenshot%20from%202021-11-19%2015-02-09.png)\n",
    "\n",
    "We report these four measurement metrics for your of each test with respect to\n",
    "5-fold cross validation and finally also write the rules for your best decision tree\n",
    "model variation with respect to your 5-fold cross validation."
   ]
  },
  {
   "cell_type": "markdown",
   "id": "da0337bb",
   "metadata": {},
   "source": [
    "### Error Analysis for Classification <a class=\"anchor\" id=\"glass1.4\"></a>"
   ]
  },
  {
   "cell_type": "code",
   "execution_count": null,
   "id": "0c589b73",
   "metadata": {},
   "outputs": [],
   "source": [
    "\n",
    "dfDiabetes = pd.read_csv(\"diabetes_data_upload.csv\")\n",
    "\n",
    "npDiabetes = dfDiabetes.to_numpy()\n",
    "npDiabetes = discreteFeature(npDiabetes, [0], 5)\n",
    "\n",
    "np.random.shuffle(npDiabetes)\n",
    "npDiabetes = mapDataFrame(npDiabetes, [1, 2, 3, 4, 5, 6, 7, 8, 9, 10, 11, 12, 13, 14, 15, 16])\n",
    "\n",
    "pdDibates = pd.DataFrame(npDiabetes, columns=dfDiabetes.columns.values)\n",
    "\n",
    "pdDibates.to_csv(\"x.csv\", index= False)\n",
    "\n",
    "out = []\n",
    "csvfile = open(\"x.csv\", 'r')\n",
    "fileToRead = csv.reader(csvfile)\n",
    "\n",
    "headers = next(fileToRead)\n",
    "\n",
    "for row in fileToRead:\n",
    "    out.append(dict(zip(headers, row)))\n",
    "\n",
    "kFoldCrossValidationClasification(out)"
   ]
  },
  {
   "attachments": {
    "Screenshot%20from%202021-11-19%2016-23-28.png": {
     "image/png": "[encoded data removed]"
    }
   },
   "cell_type": "markdown",
   "id": "36f2a0f5",
   "metadata": {},
   "source": [
    "![Screenshot%20from%202021-11-19%2016-23-28.png](attachment:Screenshot%20from%202021-11-19%2016-23-28.png)"
   ]
  },
  {
   "cell_type": "markdown",
   "id": "519bdf4a",
   "metadata": {},
   "source": [
    "The results in Table 1 were obtained by taking the average of 5 different results obtained from the 5-fold cross-validation method."
   ]
  },
  {
   "cell_type": "markdown",
   "id": "370020d4",
   "metadata": {},
   "source": [
    "Decision trees are unstable. According to the results of the folds in the 5-fold cross validation, even a small change in the data can affect the success rate. In addition, pruning the tree protects us from overfitting in general, while at the same time we do this as a reference for our success rate, so we get a tree with a more general hypothesis with a higher success rate. But due to its nature, the decision trees are not very successful for classification compared to other classification algorithms, which also makes their analysis difficult.\n",
    "Although we build the tree, the pruning process runs about 6 times slower than the tree build process.\n",
    "Let's look at two examples where our algorithm guessed wrong:\n",
    "\n",
    "s1 =[59,Female,No,No,No,No,No,No,No,No,No,No,No,No,No,No,Positive]\\\n",
    "s2 = [59,Female,No,No,No,Yes,No,No,Yes,Yes,No,Yes,No,Yes,Yes,Yes,Negative]\\\n",
    "s3 = [59,Female,No,No,No,Yes,No,No,Yes,Yes,No,Yes,No,Yes,Yes,Yes,Negative]\\\n",
    "s4 = [59,Female,No,No,No,Yes,No,No,Yes,Yes,No,Yes,No,Yes,Yes,Yes,Negative]\n",
    "\n",
    "Our algorithm predicted s1 as negative. When we examined the reason for this, we saw that the numbers tended to predict the negative class when we made the decision on the tree in our best attributes.\n",
    "\n",
    "s5 = [44,Male,No,Yes,No,No,No,Yes,No,No,No,Yes,No,No,No,Yes,Positive]\n",
    "\n",
    "We saw that our algorithm predicts the s5 as negative. When we discrete the age attribute, it maps the 30-44 age range as 2. The fact that the 30-44 age group was generally negative led us to estimate s5 as negative. If we changed our bias value, s5 would be included in a different age range and the result would be correct."
   ]
  },
  {
   "cell_type": "markdown",
   "id": "560376d1",
   "metadata": {},
   "source": [
    "### References <a class=\"anchor\" id=\"references\"></a>"
   ]
  },
  {
   "cell_type": "markdown",
   "id": "7b2cc1aa",
   "metadata": {},
   "source": [
    "1. Lecture Notes: https://web.cs.hacettepe.edu.tr/~abc/teaching/bbm406/index.php\n",
    "2. Wikipedia: https://en.wikipedia.org/wiki/Decision_tree#:~:text=Disadvantages%20of%20decision%20trees%3A,perform%20better%20with%20similar%20data.\n",
    "3. Medium: https://dhirajkumarblog.medium.com/top-5-advantages-and-disadvantages-of-decision-tree-algorithm-428ebd199d9a"
   ]
  },
  {
   "cell_type": "markdown",
   "id": "7890abb9",
   "metadata": {},
   "source": [
    "**Disclaimer!** <font color='grey'>This notebook was prepared by İsmail Ateş & Mustafa Kollu as a assignment for the *BBM409 : Introduction to Machine Learning Laboratory* class. The notebook is available for educational purposes only. There is no guarantee on the correctness of the content provided as it is a student work.\n"
   ]
  }
 ],
 "metadata": {
  "kernelspec": {
   "display_name": "Python 3",
   "language": "python",
   "name": "python3"
  },
  "language_info": {
   "codemirror_mode": {
    "name": "ipython",
    "version": 3
   },
   "file_extension": ".py",
   "mimetype": "text/x-python",
   "name": "python",
   "nbconvert_exporter": "python",
   "pygments_lexer": "ipython3",
   "version": "3.8.10"
  }
 },
 "nbformat": 4,
 "nbformat_minor": 5
}
